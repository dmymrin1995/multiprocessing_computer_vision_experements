{
 "cells": [
  {
   "cell_type": "code",
   "execution_count": null,
   "metadata": {},
   "outputs": [],
   "source": []
  },
  {
   "cell_type": "code",
   "execution_count": null,
   "metadata": {},
   "outputs": [],
   "source": [
    "import cv2\n",
    "import os\n",
    "\n",
    "import pandas as pd\n",
    "import multiprocessing as mp\n",
    "\n",
    "from ultralytics import YOLO\n",
    "from glob import glob\n",
    "from IPython.display import clear_output\n",
    "from pathlib import Path"
   ]
  },
  {
   "cell_type": "code",
   "execution_count": null,
   "metadata": {},
   "outputs": [],
   "source": [
    "def run_tracking_in_process(filepath):\n",
    "    data_list = []\n",
    "    filename_save = os.path.splitext(filepath[0])[0]\n",
    "    csv_output = Path(f\"./output/{filename_save}_csv_output\")\n",
    "    csv_output.mkdir(parents=True, exist_ok=True)\n",
    "\n",
    "    model_1 = YOLO(\"yolov8n.pt\")\n",
    "    results = model_1.track(filepath, save=True, stream=True)\n",
    "\n",
    "    for frame, r in enumerate(results):\n",
    "        ids = r.boxes.id.int().cpu().tolist()\n",
    "        clses = r.boxes.cls.int().cpu().tolist()\n",
    "        boxes = r.boxes.xywh.cpu()\n",
    "\n",
    "        for obj_id, obj_cls, box in zip(ids, clses, boxes):\n",
    "            data_list.append(\n",
    "                {\"frame\": frame, \"obj_id\": obj_id, \"clses\": clses, \"boxes\": boxes}\n",
    "            )\n",
    "        clear_output()\n",
    "\n",
    "    output_data = pd.DataFrame(data_list)\n",
    "    outputcsv_save_path = os.path.join(csv_output, f\"{filename_save}.scv\")\n",
    "    output_data.to_csv(outputcsv_save_path)\n",
    "\n",
    "    return outputcsv_save_path, filepath"
   ]
  },
  {
   "cell_type": "code",
   "execution_count": null,
   "metadata": {},
   "outputs": [],
   "source": [
    "model = YOLO(\"yolov8n.pt\")\n",
    "model.to(\"cuda\")"
   ]
  }
 ],
 "metadata": {
  "language_info": {
   "name": "python"
  }
 },
 "nbformat": 4,
 "nbformat_minor": 2
}
